{
 "cells": [
  {
   "cell_type": "code",
   "execution_count": null,
   "metadata": {},
   "outputs": [],
   "source": [
    "import pygad\n",
    "import numpy"
   ]
  },
  {
   "attachments": {},
   "cell_type": "markdown",
   "metadata": {},
   "source": [
    "### Importowanie bibliotek"
   ]
  },
  {
   "cell_type": "code",
   "execution_count": 2,
   "metadata": {},
   "outputs": [],
   "source": [
    "stuff = [\n",
    "    {\n",
    "        \"object\": \"clock\",\n",
    "        \"value\": 100,\n",
    "        \"weight\": 7\n",
    "    },\n",
    "    {\n",
    "        \"object\": \"painting-landscape\",\n",
    "        \"value\": 300,\n",
    "        \"weight\": 7\n",
    "    },\n",
    "    {\n",
    "        \"object\": \"painting-portrait\",\n",
    "        \"value\": 200,\n",
    "        \"weight\": 6\n",
    "    },\n",
    "    {\n",
    "        \"object\": \"radio\",\n",
    "        \"value\": 40,\n",
    "        \"weight\": 2\n",
    "    },\n",
    "    {\n",
    "        \"object\": \"desktop\",\n",
    "        \"value\": 500,\n",
    "        \"weight\": 5\n",
    "    },\n",
    "    {\n",
    "        \"object\": \"bedlamp\",\n",
    "        \"value\": 70,\n",
    "        \"weight\": 6\n",
    "    },\n",
    "    {\n",
    "        \"object\": \"silver cutlery\",\n",
    "        \"value\": 100,\n",
    "        \"weight\": 1\n",
    "    },\n",
    "    {\n",
    "        \"object\": \"porcelain\",\n",
    "        \"value\": 250,\n",
    "        \"weight\": 3\n",
    "    },\n",
    "    {\n",
    "        \"object\": \"brown figure\",\n",
    "        \"value\": 300,\n",
    "        \"weight\": 10\n",
    "    },\n",
    "    {\n",
    "        \"object\": \"leather bag\",\n",
    "        \"value\": 280,\n",
    "        \"weight\": 3\n",
    "    },\n",
    "    {\n",
    "        \"object\": \"vacuum cleaner\",\n",
    "        \"value\": 300,\n",
    "        \"weight\": 15\n",
    "    }\n",
    "]"
   ]
  }
 ],
 "metadata": {
  "kernelspec": {
   "display_name": "Python 3",
   "language": "python",
   "name": "python3"
  },
  "language_info": {
   "codemirror_mode": {
    "name": "ipython",
    "version": 3
   },
   "file_extension": ".py",
   "mimetype": "text/x-python",
   "name": "python",
   "nbconvert_exporter": "python",
   "pygments_lexer": "ipython3",
   "version": "3.10.6"
  },
  "orig_nbformat": 4,
  "vscode": {
   "interpreter": {
    "hash": "916dbcbb3f70747c44a77c7bcd40155683ae19c65e1c03b4aa3499c5328201f1"
   }
  }
 },
 "nbformat": 4,
 "nbformat_minor": 2
}
