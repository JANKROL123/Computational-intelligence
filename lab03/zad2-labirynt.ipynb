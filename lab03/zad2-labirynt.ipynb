{
 "cells": [
  {
   "attachments": {},
   "cell_type": "markdown",
   "metadata": {},
   "source": [
    "### Importowanie bibliotek"
   ]
  },
  {
   "cell_type": "code",
   "execution_count": 49,
   "metadata": {},
   "outputs": [],
   "source": [
    "import pygad\n",
    "import time\n",
    "import pandas as pd"
   ]
  },
  {
   "attachments": {},
   "cell_type": "markdown",
   "metadata": {},
   "source": [
    "### Dane dla algorytmu genetycznego"
   ]
  },
  {
   "cell_type": "code",
   "execution_count": 50,
   "metadata": {},
   "outputs": [],
   "source": [
    "gene_space = [-2, -1, 1, 2]\n",
    "num_genes = 30\n",
    "sol_per_pop = 1000\n",
    "num_generations = 3000\n",
    "crossover_type = None\n",
    "mutation_type = \"random\"\n",
    "mutation_percent_genes = 5\n",
    "stop_criteria=[\"reach_2000000\"]"
   ]
  },
  {
   "attachments": {},
   "cell_type": "markdown",
   "metadata": {},
   "source": [
    "### Labirynt reprezentowany jako macierz"
   ]
  },
  {
   "cell_type": "code",
   "execution_count": 51,
   "metadata": {},
   "outputs": [],
   "source": [
    "labirynt = [\n",
    "    [1, 1, 1, 1, 1, 1, 1, 1, 1, 1, 1, 1],\n",
    "    [1, 2, 0, 0, 1, 0, 0, 0, 1, 0, 0, 1],\n",
    "    [1, 1, 1, 0, 0, 0, 1, 0, 1, 1, 0, 1],\n",
    "    [1, 0, 0, 0, 1, 0, 1, 0, 0, 0, 0, 1],\n",
    "    [1, 0, 1, 0, 1, 1, 0, 0, 1, 1, 0, 1],\n",
    "    [1, 0, 0, 1, 1, 0, 0, 0, 1, 0, 0, 1],\n",
    "    [1, 0, 0, 0, 0, 0, 1, 0, 0, 0, 1, 1],\n",
    "    [1, 0, 1, 0, 0, 1, 1, 0, 1, 0, 0, 1],\n",
    "    [1, 0, 1, 1, 1, 0, 0, 0, 1, 1, 0, 1],\n",
    "    [1, 0, 1, 0, 1, 1, 0, 1, 0, 1, 0, 1],\n",
    "    [1, 0, 1, 0, 0, 0, 0, 0, 0, 0, 3, 1],\n",
    "    [1, 1, 1, 1, 1, 1, 1, 1, 1, 1, 1, 1]\n",
    "]"
   ]
  },
  {
   "attachments": {},
   "cell_type": "markdown",
   "metadata": {},
   "source": [
    "### Funkcja fitness"
   ]
  },
  {
   "cell_type": "code",
   "execution_count": 52,
   "metadata": {},
   "outputs": [],
   "source": [
    "def fitness_func(solution, solution_idx):\n",
    "    fitness = 0\n",
    "    route = 0\n",
    "    x = 1\n",
    "    y = 1\n",
    "    for gene in solution:\n",
    "        new_x = x\n",
    "        new_y = y\n",
    "        if gene == -1:\n",
    "            new_x -= 1\n",
    "        elif gene == 1:\n",
    "            new_x += 1\n",
    "        elif gene == -2:\n",
    "            new_y += 1\n",
    "        elif gene == 2:\n",
    "            new_y -= 1\n",
    "        point = labirynt[new_y][new_x]\n",
    "        if point == 0 or point == 2:\n",
    "            if new_x < x:\n",
    "                fitness -= 4\n",
    "            if new_y < y:\n",
    "                fitness -= 4\n",
    "            if new_x > x:\n",
    "                fitness += 1\n",
    "            if new_y > y:\n",
    "                fitness += 1\n",
    "            x = new_x\n",
    "            y = new_y\n",
    "        elif point == 1:\n",
    "            fitness -= 2\n",
    "        elif point == 3:\n",
    "            x = new_x\n",
    "            y = new_y\n",
    "            fitness += 1000000\n",
    "            route += 1\n",
    "            if route < 30:\n",
    "                fitness += ((30 - route) * 20000)\n",
    "                break\n",
    "            break\n",
    "        route += 1\n",
    "    return fitness\n",
    "\n",
    "fitness_function = fitness_func"
   ]
  },
  {
   "attachments": {},
   "cell_type": "markdown",
   "metadata": {},
   "source": [
    "### Zdefiniowanie obiektu ga_instance"
   ]
  },
  {
   "cell_type": "code",
   "execution_count": 53,
   "metadata": {},
   "outputs": [],
   "source": [
    "ga_instance = pygad.GA(gene_space=gene_space,\n",
    "    num_generations=num_generations,\n",
    "    fitness_func=fitness_function,\n",
    "    sol_per_pop=sol_per_pop,\n",
    "    num_genes=num_genes,\n",
    "    num_parents_mating=sol_per_pop,\n",
    "    mutation_type=mutation_type,\n",
    "    mutation_percent_genes=mutation_percent_genes,\n",
    "    stop_criteria=stop_criteria,\n",
    ")"
   ]
  },
  {
   "attachments": {},
   "cell_type": "markdown",
   "metadata": {},
   "source": [
    "### Uruchomienie algorytmu"
   ]
  },
  {
   "cell_type": "code",
   "execution_count": 54,
   "metadata": {},
   "outputs": [],
   "source": [
    "start = time.time()\n",
    "ga_instance.run()\n",
    "stop = time.time()\n",
    "czas = stop - start\n",
    "data = [[czas]]\n",
    "df = pd.DataFrame(data)\n",
    "df.to_csv(\"czas.csv\", mode='a', index=False, header=False)"
   ]
  },
  {
   "attachments": {},
   "cell_type": "markdown",
   "metadata": {},
   "source": [
    "### Wyniki"
   ]
  },
  {
   "cell_type": "code",
   "execution_count": 58,
   "metadata": {},
   "outputs": [
    {
     "name": "stdout",
     "output_type": "stream",
     "text": [
      "[1.0, 1.0, -2.0, 1.0, 2.0, 1.0, 2.0, 1.0, 1.0, -2.0, -1.0, -2.0, -2.0, -2.0, -2.0, 1.0, 1.0, -2.0, 1.0, -2.0, -2.0, -2.0, -2.0, 1.0, 2.0, 1.0, -2.0, -1.0, 1.0, 1.0]\n",
      "Fitness: 1160010\n"
     ]
    }
   ],
   "source": [
    "solution, solution_fitness, solution_idx = ga_instance.best_solution()\n",
    "arr = []\n",
    "for i in solution:\n",
    "    arr.append(i)\n",
    "print(arr)\n",
    "print(f\"Fitness: {solution_fitness}\")"
   ]
  },
  {
   "attachments": {},
   "cell_type": "markdown",
   "metadata": {},
   "source": [
    "### Wykres"
   ]
  },
  {
   "cell_type": "code",
   "execution_count": 56,
   "metadata": {},
   "outputs": [
    {
     "data": {
      "image/png": "[encoded data removed]",
      "text/plain": [
       "<Figure size 640x480 with 1 Axes>"
      ]
     },
     "metadata": {},
     "output_type": "display_data"
    },
    {
     "data": {
      "image/png": "[encoded data removed]",
      "text/plain": [
       "<Figure size 640x480 with 1 Axes>"
      ]
     },
     "execution_count": 56,
     "metadata": {},
     "output_type": "execute_result"
    }
   ],
   "source": [
    "ga_instance.plot_fitness()"
   ]
  },
  {
   "attachments": {},
   "cell_type": "markdown",
   "metadata": {},
   "source": [
    "### Średni czas"
   ]
  },
  {
   "cell_type": "code",
   "execution_count": 57,
   "metadata": {},
   "outputs": [
    {
     "name": "stdout",
     "output_type": "stream",
     "text": [
      "Średni czas wykonywania algorytmu to: 198.47235773159906 sec\n"
     ]
    }
   ],
   "source": [
    "czasy_wykonania_pd = pd.read_csv(\"czas.csv\")\n",
    "czasy_wykonania = czasy_wykonania_pd.values\n",
    "sum = 0\n",
    "for i in czasy_wykonania:\n",
    "    sum += i[0]\n",
    "avg = sum / len(czasy_wykonania)\n",
    "print(\"Średni czas wykonywania algorytmu to:\",avg,\"sec\")"
   ]
  },
  {
   "cell_type": "markdown",
   "metadata": {},
   "source": []
  }
 ],
 "metadata": {
  "kernelspec": {
   "display_name": "Python 3",
   "language": "python",
   "name": "python3"
  },
  "language_info": {
   "codemirror_mode": {
    "name": "ipython",
    "version": 3
   },
   "file_extension": ".py",
   "mimetype": "text/x-python",
   "name": "python",
   "nbconvert_exporter": "python",
   "pygments_lexer": "ipython3",
   "version": "3.10.6"
  },
  "orig_nbformat": 4
 },
 "nbformat": 4,
 "nbformat_minor": 2
}
