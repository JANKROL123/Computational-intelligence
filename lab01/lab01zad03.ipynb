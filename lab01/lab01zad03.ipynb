{
 "cells": [
  {
   "cell_type": "code",
   "execution_count": 7,
   "metadata": {},
   "outputs": [],
   "source": [
    "import math\n",
    "import pandas as pd\n",
    "from matplotlib import pyplot as plt\n",
    "# Importowanie bibliotek"
   ]
  },
  {
   "cell_type": "code",
   "execution_count": null,
   "metadata": {},
   "outputs": [],
   "source": [
    "miasta = pd.read_csv(\"miasta.csv\")\n",
    "print(miasta.values)\n",
    "# Importuje dane z pliku miasta.csv i drukuję wartość \"values\""
   ]
  },
  {
   "cell_type": "code",
   "execution_count": 11,
   "metadata": {},
   "outputs": [],
   "source": [
    "data = [[2010,460,555,405]]\n",
    "df = pd.DataFrame(data)\n",
    "df.to_csv(\"miasta.csv\", mode='a', index=False, header=False)\n",
    "# Dodaję nową linijkę do pliku miasta.csv"
   ]
  },
  {
   "cell_type": "code",
   "execution_count": null,
   "metadata": {},
   "outputs": [],
   "source": [
    "plt.plot(miasta.Rok, miasta.Gdansk, color = \"red\", marker = \"o\", label = \"Gdansk\")\n",
    "plt.plot(miasta.Rok, miasta.Poznan, color = \"blue\", marker = \"o\", label = \"Poznan\")\n",
    "plt.plot(miasta.Rok, miasta.Szczecin, color = \"green\", marker = \"o\", label = \"Szczecin\")\n",
    "plt.title(\"Liczba ludnosci w miastach Polski\")\n",
    "plt.xlabel(\"Rok\")\n",
    "plt.ylabel(\"Ludnosc\")\n",
    "plt.legend()\n",
    "plt.show()\n",
    "# Rysuję wykres "
   ]
  },
  {
   "cell_type": "code",
   "execution_count": 15,
   "metadata": {},
   "outputs": [],
   "source": [
    "def mean(tab):\n",
    "    total = 0\n",
    "    for i in tab:\n",
    "        total += i \n",
    "    result = total / len(tab)\n",
    "    return result\n",
    "def sd(tab):\n",
    "    my_mean = mean(tab)\n",
    "    sum_var = 0\n",
    "    for i in tab:\n",
    "        sum_var += (i - my_mean)**2\n",
    "    var = sum_var / len(tab)\n",
    "    sd = math.sqrt(var)\n",
    "    return sd\n",
    "# Funkcje do wyznaczania średniej i odchylenia standardowego"
   ]
  },
  {
   "cell_type": "code",
   "execution_count": 2,
   "metadata": {},
   "outputs": [
    {
     "ename": "NameError",
     "evalue": "name 'miasta' is not defined",
     "output_type": "error",
     "traceback": [
      "\u001b[0;31m---------------------------------------------------------------------------\u001b[0m",
      "\u001b[0;31mNameError\u001b[0m                                 Traceback (most recent call last)",
      "Cell \u001b[0;32mIn[2], line 4\u001b[0m\n\u001b[1;32m      2\u001b[0m poznan \u001b[39m=\u001b[39m []\n\u001b[1;32m      3\u001b[0m szczecin \u001b[39m=\u001b[39m []\n\u001b[0;32m----> 4\u001b[0m \u001b[39mfor\u001b[39;00m i \u001b[39min\u001b[39;00m miasta\u001b[39m.\u001b[39mvalues:\n\u001b[1;32m      5\u001b[0m     gdansk\u001b[39m.\u001b[39mappend(i[\u001b[39m1\u001b[39m])\n\u001b[1;32m      6\u001b[0m     poznan\u001b[39m.\u001b[39mappend(i[\u001b[39m2\u001b[39m])\n",
      "\u001b[0;31mNameError\u001b[0m: name 'miasta' is not defined"
     ]
    }
   ],
   "source": [
    "gdansk = []\n",
    "poznan = []\n",
    "szczecin = []\n",
    "for i in miasta.values:\n",
    "    gdansk.append(i[1])\n",
    "    poznan.append(i[2])\n",
    "    szczecin.append(i[3])\n",
    "# Dane poszczególnych miast"
   ]
  },
  {
   "cell_type": "code",
   "execution_count": null,
   "metadata": {},
   "outputs": [],
   "source": [
    "gdansk_standaryzacja = []\n",
    "poznan_standaryzacja = []\n",
    "szczecin_standaryzacja = []\n",
    "mean_gdansk = mean(gdansk)\n",
    "mean_poznan = mean(poznan)\n",
    "mean_szczecin = mean(szczecin)\n",
    "sd_gdansk = sd(gdansk)\n",
    "sd_poznan = sd(poznan)\n",
    "sd_szczecin = sd(szczecin)\n",
    "for i in gdansk:\n",
    "    z = (i - mean_gdansk) / sd_gdansk\n",
    "    gdansk_standaryzacja.append(z)\n",
    "for i in poznan:\n",
    "    z = (i - mean_poznan) / sd_poznan\n",
    "    poznan_standaryzacja.append(z)\n",
    "for i in szczecin:\n",
    "    z = (i - mean_szczecin) / sd_szczecin\n",
    "    szczecin_standaryzacja.append(z)\n",
    "print(\"Standaryzacja 1\")\n",
    "print(f\"Gdańsk -> średnia: {mean(gdansk_standaryzacja)}, odchylenie: {sd(gdansk_standaryzacja)}\")\n",
    "print(f\"Poznań -> średnia: {mean(poznan_standaryzacja)}, odchylenie: {sd(poznan_standaryzacja)}\")\n",
    "print(f\"Szczecin -> średnia: {mean(szczecin_standaryzacja)}, odchylenie: {sd(szczecin_standaryzacja)}\")\n",
    "# Standaryzacja"
   ]
  },
  {
   "cell_type": "code",
   "execution_count": 1,
   "metadata": {},
   "outputs": [
    {
     "ename": "NameError",
     "evalue": "name 'gdansk' is not defined",
     "output_type": "error",
     "traceback": [
      "\u001b[0;31m---------------------------------------------------------------------------\u001b[0m",
      "\u001b[0;31mNameError\u001b[0m                                 Traceback (most recent call last)",
      "Cell \u001b[0;32mIn[1], line 4\u001b[0m\n\u001b[1;32m      2\u001b[0m poznan_standaryzacja2 \u001b[39m=\u001b[39m []\n\u001b[1;32m      3\u001b[0m szczecin_standaryzacja2 \u001b[39m=\u001b[39m []\n\u001b[0;32m----> 4\u001b[0m min_gdansk \u001b[39m=\u001b[39m \u001b[39mmin\u001b[39m(gdansk)\n\u001b[1;32m      5\u001b[0m min_poznan \u001b[39m=\u001b[39m \u001b[39mmin\u001b[39m(poznan)\n\u001b[1;32m      6\u001b[0m min_szczecin \u001b[39m=\u001b[39m \u001b[39mmin\u001b[39m(szczecin)\n",
      "\u001b[0;31mNameError\u001b[0m: name 'gdansk' is not defined"
     ]
    }
   ],
   "source": [
    "gdansk_standaryzacja2 = []\n",
    "poznan_standaryzacja2 = []\n",
    "szczecin_standaryzacja2 = []\n",
    "min_gdansk = min(gdansk)\n",
    "min_poznan = min(poznan)\n",
    "min_szczecin = min(szczecin)\n",
    "max_gdansk = max(gdansk)\n",
    "max_poznan = max(poznan)\n",
    "max_szczecin = max(szczecin)\n",
    "for i in gdansk:\n",
    "    z = (i - min_gdansk) / (max_gdansk - min_gdansk)\n",
    "    gdansk_standaryzacja2.append(z)\n",
    "for i in poznan:\n",
    "    z = (i - min_poznan) / (max_poznan - min_poznan)\n",
    "    poznan_standaryzacja2.append(z)\n",
    "for i in szczecin:\n",
    "    z = (i - min_szczecin) / (max_szczecin - min_szczecin)\n",
    "    szczecin_standaryzacja2.append(z)\n",
    "print(\"Standaryzacja 2\")\n",
    "print(f\"Gdansk -> min: {min(gdansk_standaryzacja2)}, max: {max(gdansk_standaryzacja2)}\")\n",
    "print(f\"Poznan -> min: {min(poznan_standaryzacja2)}, max: {max(poznan_standaryzacja2)}\")\n",
    "print(f\"Szczecin -> min: {min(szczecin_standaryzacja2)}, max: {max(szczecin_standaryzacja2)}\")\n",
    "# Normalizacja"
   ]
  }
 ],
 "metadata": {
  "kernelspec": {
   "display_name": "Python 3",
   "language": "python",
   "name": "python3"
  },
  "language_info": {
   "codemirror_mode": {
    "name": "ipython",
    "version": 3
   },
   "file_extension": ".py",
   "mimetype": "text/x-python",
   "name": "python",
   "nbconvert_exporter": "python",
   "pygments_lexer": "ipython3",
   "version": "3.10.6"
  },
  "orig_nbformat": 4,
  "vscode": {
   "interpreter": {
    "hash": "916dbcbb3f70747c44a77c7bcd40155683ae19c65e1c03b4aa3499c5328201f1"
   }
  }
 },
 "nbformat": 4,
 "nbformat_minor": 2
}
